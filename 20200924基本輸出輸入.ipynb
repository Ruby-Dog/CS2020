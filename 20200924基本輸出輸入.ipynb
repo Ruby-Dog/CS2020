{
  "nbformat": 4,
  "nbformat_minor": 0,
  "metadata": {
    "colab": {
      "name": "20200924基本輸出輸入.ipynb",
      "provenance": [],
      "authorship_tag": "ABX9TyMS2sbMQuXS7+CVJNX85aBk",
      "include_colab_link": true
    },
    "kernelspec": {
      "name": "python3",
      "display_name": "Python 3"
    }
  },
  "cells": [
    {
      "cell_type": "markdown",
      "metadata": {
        "id": "view-in-github",
        "colab_type": "text"
      },
      "source": [
        "<a href=\"https://colab.research.google.com/github/Ruby-Dog/CS2020/blob/master/20200924%E5%9F%BA%E6%9C%AC%E8%BC%B8%E5%87%BA%E8%BC%B8%E5%85%A5.ipynb\" target=\"_parent\"><img src=\"https://colab.research.google.com/assets/colab-badge.svg\" alt=\"Open In Colab\"/></a>"
      ]
    },
    {
      "cell_type": "markdown",
      "metadata": {
        "id": "pSlI3u-jmPqz",
        "colab_type": "text"
      },
      "source": [
        "20200924"
      ]
    },
    {
      "cell_type": "code",
      "metadata": {
        "id": "-Rs09tlT1tJr",
        "colab_type": "code",
        "colab": {
          "base_uri": "https://localhost:8080/",
          "height": 236
        },
        "outputId": "a1bac70f-c60e-48dc-f73b-d0c9e046d636"
      },
      "source": [
        "a = input(\"請輸入：\")\n",
        "a\n",
        "b=a+1\n",
        "b"
      ],
      "execution_count": null,
      "outputs": [
        {
          "output_type": "stream",
          "text": [
            "請輸入：30\n"
          ],
          "name": "stdout"
        },
        {
          "output_type": "error",
          "ename": "TypeError",
          "evalue": "ignored",
          "traceback": [
            "\u001b[0;31m---------------------------------------------------------------------------\u001b[0m",
            "\u001b[0;31mTypeError\u001b[0m                                 Traceback (most recent call last)",
            "\u001b[0;32m<ipython-input-5-c41d06678cb4>\u001b[0m in \u001b[0;36m<module>\u001b[0;34m()\u001b[0m\n\u001b[1;32m      1\u001b[0m \u001b[0ma\u001b[0m \u001b[0;34m=\u001b[0m \u001b[0minput\u001b[0m\u001b[0;34m(\u001b[0m\u001b[0;34m\"請輸入：\"\u001b[0m\u001b[0;34m)\u001b[0m\u001b[0;34m\u001b[0m\u001b[0;34m\u001b[0m\u001b[0m\n\u001b[1;32m      2\u001b[0m \u001b[0ma\u001b[0m\u001b[0;34m\u001b[0m\u001b[0;34m\u001b[0m\u001b[0m\n\u001b[0;32m----> 3\u001b[0;31m \u001b[0mb\u001b[0m\u001b[0;34m=\u001b[0m\u001b[0ma\u001b[0m\u001b[0;34m+\u001b[0m\u001b[0;36m1\u001b[0m\u001b[0;34m\u001b[0m\u001b[0;34m\u001b[0m\u001b[0m\n\u001b[0m\u001b[1;32m      4\u001b[0m \u001b[0mb\u001b[0m\u001b[0;34m\u001b[0m\u001b[0;34m\u001b[0m\u001b[0m\n",
            "\u001b[0;31mTypeError\u001b[0m: must be str, not int"
          ]
        }
      ]
    },
    {
      "cell_type": "markdown",
      "metadata": {
        "id": "YcHSIcrAm24t",
        "colab_type": "text"
      },
      "source": [
        "如何讀取使用者輸入的整數===>使用eval()函數"
      ]
    },
    {
      "cell_type": "code",
      "metadata": {
        "id": "jzCf1rKvmOmX",
        "colab_type": "code",
        "colab": {
          "base_uri": "https://localhost:8080/",
          "height": 51
        },
        "outputId": "9d369f2b-0e88-4188-9dc7-794083806aa4"
      },
      "source": [
        "a = eval(input(\"請輸入：\"))\n",
        "a\n",
        "\n",
        "b=a+1\n",
        "b"
      ],
      "execution_count": null,
      "outputs": [
        {
          "output_type": "stream",
          "text": [
            "請輸入：20\n"
          ],
          "name": "stdout"
        },
        {
          "output_type": "execute_result",
          "data": {
            "text/plain": [
              "21"
            ]
          },
          "metadata": {
            "tags": []
          },
          "execution_count": 3
        }
      ]
    },
    {
      "cell_type": "markdown",
      "metadata": {
        "id": "Qy4wJ1ycoSY0",
        "colab_type": "text"
      },
      "source": [
        "eval(str)函數很強大，官方解釋為：將字符串str當成有效的表達式來求值並返回計算結果。所以，結合math當成一個計算器很好用。"
      ]
    },
    {
      "cell_type": "markdown",
      "metadata": {
        "id": "Sv83nxSK4fDZ",
        "colab_type": "text"
      },
      "source": [
        "https://codertw.com/%E7%A8%8B%E5%BC%8F%E8%AA%9E%E8%A8%80/114247/\n",
        "\n",
        "# 1.eval()函式\n",
        "eval(<字串>)能夠以Python表示式的方式解析並執行字串，並將返回結果輸出。eval()函式將去掉字串的兩個引號，將其解釋為一個變數。\n",
        "\n",
        "作用：\n",
        "a. 處理數字\n",
        "\n",
        "單引號，雙引號，eval()函式都將其解釋為int型別；三引號則解釋為str型別。\n",
        "\n",
        "\n",
        "b.處理字串型別的字串\n",
        "\n",
        "\n",
        "對於eval()括號中的的字串(非數字)，如果字串帶的是單引號或者是雙引號都會引起NameError,這是因為eval()函式在處理字串時會去掉其兩個引號。正確應該使用一個單引號包含一個雙引號組成的三引號來包含字串。\n"
      ]
    },
    {
      "cell_type": "code",
      "metadata": {
        "id": "V8spqfB_1AOa",
        "colab_type": "code",
        "colab": {
          "base_uri": "https://localhost:8080/",
          "height": 34
        },
        "outputId": "a5f0b082-e612-468d-bf97-feab6cba987a"
      },
      "source": [
        "x = 7\n",
        "eval( '3 * x' )"
      ],
      "execution_count": null,
      "outputs": [
        {
          "output_type": "execute_result",
          "data": {
            "text/plain": [
              "21"
            ]
          },
          "metadata": {
            "tags": []
          },
          "execution_count": 2
        }
      ]
    },
    {
      "cell_type": "markdown",
      "metadata": {
        "id": "9kHIrimR4rCU",
        "colab_type": "text"
      },
      "source": [
        "# 2.input函式\n",
        "\n",
        "在獲得使用者輸入之前，input()函式可以包含一些提示性的文字。\n",
        "\n",
        "`<變數> = input(“提示性的 文字”)`"
      ]
    },
    {
      "cell_type": "code",
      "metadata": {
        "id": "t1Rxp3YG4x2v",
        "colab_type": "code",
        "colab": {}
      },
      "source": [
        ""
      ],
      "execution_count": 10,
      "outputs": []
    },
    {
      "cell_type": "markdown",
      "metadata": {
        "id": "YH2fY2tX49hd",
        "colab_type": "text"
      },
      "source": [
        "無論使用者輸入的是字元還是數字，input()函式統一按照字串型別輸出。因此input()的輸出型別是str。"
      ]
    },
    {
      "cell_type": "markdown",
      "metadata": {
        "id": "EKhCQV8t5Pvs",
        "colab_type": "text"
      },
      "source": [
        "# 3.兩者結合使用\n",
        "使用eval(input(‘請輸入數字：’))來獲取使用者輸入的數字"
      ]
    },
    {
      "cell_type": "markdown",
      "metadata": {
        "id": "aWoHppQ-5hPd",
        "colab_type": "text"
      },
      "source": [
        "# 4.總結input_string = input(“請輸入一個字串：”)\n",
        "\n",
        "對於接收使用者輸入的數字，可以使用的結合：\n"
      ]
    },
    {
      "cell_type": "code",
      "metadata": {
        "id": "kZgGP-5g55RG",
        "colab_type": "code",
        "colab": {}
      },
      "source": [
        "a = eval(input('請輸入一個數字：'))"
      ],
      "execution_count": null,
      "outputs": []
    },
    {
      "cell_type": "markdown",
      "metadata": {
        "id": "OSmxv8nX5_mK",
        "colab_type": "text"
      },
      "source": [
        "對於接收使用者輸入的字串，則可以直接使用input()函式："
      ]
    },
    {
      "cell_type": "code",
      "metadata": {
        "id": "WYIa3_yr6Btp",
        "colab_type": "code",
        "colab": {}
      },
      "source": [
        "input_string = input(\"請輸入一個字串：\")"
      ],
      "execution_count": null,
      "outputs": []
    },
    {
      "cell_type": "markdown",
      "metadata": {
        "id": "KhKnH1h26EfY",
        "colab_type": "text"
      },
      "source": [
        "eval(input())在接收輸入數字作為變數時非常好用，可以儘量在此場合下使用。"
      ]
    },
    {
      "cell_type": "code",
      "metadata": {
        "id": "24sWxIed6V2c",
        "colab_type": "code",
        "colab": {
          "base_uri": "https://localhost:8080/",
          "height": 202
        },
        "outputId": "69d447a5-f805-4823-8076-5ee53a64b449"
      },
      "source": [
        "a = 7\n",
        "b = '5'\n",
        "a+b"
      ],
      "execution_count": 15,
      "outputs": [
        {
          "output_type": "error",
          "ename": "TypeError",
          "evalue": "ignored",
          "traceback": [
            "\u001b[0;31m---------------------------------------------------------------------------\u001b[0m",
            "\u001b[0;31mTypeError\u001b[0m                                 Traceback (most recent call last)",
            "\u001b[0;32m<ipython-input-15-cec098e72063>\u001b[0m in \u001b[0;36m<module>\u001b[0;34m()\u001b[0m\n\u001b[1;32m      1\u001b[0m \u001b[0ma\u001b[0m \u001b[0;34m=\u001b[0m \u001b[0;36m7\u001b[0m\u001b[0;34m\u001b[0m\u001b[0;34m\u001b[0m\u001b[0m\n\u001b[1;32m      2\u001b[0m \u001b[0mb\u001b[0m \u001b[0;34m=\u001b[0m \u001b[0;34m'5'\u001b[0m\u001b[0;34m\u001b[0m\u001b[0;34m\u001b[0m\u001b[0m\n\u001b[0;32m----> 3\u001b[0;31m \u001b[0ma\u001b[0m\u001b[0;34m+\u001b[0m\u001b[0mb\u001b[0m\u001b[0;34m\u001b[0m\u001b[0;34m\u001b[0m\u001b[0m\n\u001b[0m",
            "\u001b[0;31mTypeError\u001b[0m: unsupported operand type(s) for +: 'int' and 'str'"
          ]
        }
      ]
    },
    {
      "cell_type": "code",
      "metadata": {
        "id": "oSYmq14Z6lV_",
        "colab_type": "code",
        "colab": {
          "base_uri": "https://localhost:8080/",
          "height": 34
        },
        "outputId": "cac1e4e6-4d93-4179-8592-af53a058e894"
      },
      "source": [
        "a = 7\n",
        "b = eval('5')\n",
        "a+b"
      ],
      "execution_count": 16,
      "outputs": [
        {
          "output_type": "execute_result",
          "data": {
            "text/plain": [
              "12"
            ]
          },
          "metadata": {
            "tags": []
          },
          "execution_count": 16
        }
      ]
    },
    {
      "cell_type": "markdown",
      "metadata": {
        "id": "KW5qBGDf6u_5",
        "colab_type": "text"
      },
      "source": [
        "# 超級重要:一次輸入多（兩）個資料"
      ]
    },
    {
      "cell_type": "code",
      "metadata": {
        "id": "ZyeayxNV601C",
        "colab_type": "code",
        "colab": {
          "base_uri": "https://localhost:8080/",
          "height": 51
        },
        "outputId": "e52a0d78-dd1d-49e9-85d2-cc633f302ccd"
      },
      "source": [
        "a,b = eval(input(\"請輸入兩個數位：\"))\n",
        "a,b"
      ],
      "execution_count": 20,
      "outputs": [
        {
          "output_type": "stream",
          "text": [
            "請輸入兩個數位：10,2\n"
          ],
          "name": "stdout"
        },
        {
          "output_type": "execute_result",
          "data": {
            "text/plain": [
              "(10, 2)"
            ]
          },
          "metadata": {
            "tags": []
          },
          "execution_count": 20
        }
      ]
    }
  ]
}