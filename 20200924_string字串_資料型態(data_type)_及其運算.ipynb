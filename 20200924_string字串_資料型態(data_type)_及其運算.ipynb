{
  "nbformat": 4,
  "nbformat_minor": 0,
  "metadata": {
    "colab": {
      "name": "20200924 string字串 資料型態(data type) 及其運算.ipynb",
      "provenance": [],
      "authorship_tag": "ABX9TyM6Q7jeFrEOX4E5IoJQgO4C",
      "include_colab_link": true
    },
    "kernelspec": {
      "name": "python3",
      "display_name": "Python 3"
    }
  },
  "cells": [
    {
      "cell_type": "markdown",
      "metadata": {
        "id": "view-in-github",
        "colab_type": "text"
      },
      "source": [
        "<a href=\"https://colab.research.google.com/github/Ruby-Dog/CS2020/blob/master/20200924_string%E5%AD%97%E4%B8%B2_%E8%B3%87%E6%96%99%E5%9E%8B%E6%85%8B(data_type)_%E5%8F%8A%E5%85%B6%E9%81%8B%E7%AE%97.ipynb\" target=\"_parent\"><img src=\"https://colab.research.google.com/assets/colab-badge.svg\" alt=\"Open In Colab\"/></a>"
      ]
    },
    {
      "cell_type": "markdown",
      "metadata": {
        "id": "coSVdut376x9"
      },
      "source": [
        "# [1]string字串 資料型態(data type)\n",
        "\n",
        "```\n",
        "Python 字串資料型態 (str) \n",
        "\n",
        "變數值以一對雙引號 (「\"」)或單引號 (「'」)\n",
        "```"
      ]
    },
    {
      "cell_type": "code",
      "metadata": {
        "id": "b6x8av_J8G4U",
        "outputId": "b7989078-1b66-4435-eb29-96c4c71c50c5",
        "colab": {
          "base_uri": "https://localhost:8080/",
          "height": 68
        }
      },
      "source": [
        "str1 = '這是字串'\n",
        "print(str1)\n",
        "\n",
        "str2 = \"這也是字串\"\n",
        "print(str2)\n",
        "\n",
        "str3 = 'allows embedded \"double\" quotes'\n",
        "print(str3)"
      ],
      "execution_count": null,
      "outputs": [
        {
          "output_type": "stream",
          "text": [
            "這是字串\n",
            "這也是字串\n",
            "allows embedded \"double\" quotes\n"
          ],
          "name": "stdout"
        }
      ]
    },
    {
      "cell_type": "markdown",
      "metadata": {
        "id": "B3yi9DT_8eVA"
      },
      "source": [
        "# [2]string字串的運算\n"
      ]
    },
    {
      "cell_type": "markdown",
      "metadata": {
        "id": "CjnOjflI8tR0"
      },
      "source": [
        "存取字串中的值: 使用方括號"
      ]
    },
    {
      "cell_type": "code",
      "metadata": {
        "id": "bF6Dw8Y-8q8M",
        "outputId": "eaf924f0-18cc-4fb8-d967-365565eac29a",
        "colab": {
          "base_uri": "https://localhost:8080/",
          "height": 68
        }
      },
      "source": [
        "var = 'hello!dog!'\n",
        "print('var[0]:',var[0])\n",
        "print('var[5]:',var[5])\n",
        "print('var[1:8]:',var[1:8])  #印出第1到第八個字元"
      ],
      "execution_count": null,
      "outputs": [
        {
          "output_type": "stream",
          "text": [
            "var[0]: h\n",
            "var[5]: !\n",
            "var[1:8]: ello!do\n"
          ],
          "name": "stdout"
        }
      ]
    },
    {
      "cell_type": "markdown",
      "metadata": {
        "id": "bz_zuZy_96gK"
      },
      "source": [
        "字串的更新"
      ]
    },
    {
      "cell_type": "code",
      "metadata": {
        "id": "gSo2PIoy97LP",
        "outputId": "bfa69122-8447-463b-9c86-f23eed5d145e",
        "colab": {
          "base_uri": "https://localhost:8080/",
          "height": 68
        }
      },
      "source": [
        "str1 = 'Hello World!'\n",
        "print(\"更新前的字串-> \", str1[:]) \n",
        "print(\"更新前的字串(也可以這樣寫)-> \", str1) \n",
        "print(\"更新後的字串-> \", str1[:6]+'python')  \n"
      ],
      "execution_count": null,
      "outputs": [
        {
          "output_type": "stream",
          "text": [
            "更新前的字串->  Hello World!\n",
            "更新前的字串(也可以這樣寫)->  Hello World!\n",
            "更新後的字串->  Hello python\n"
          ],
          "name": "stdout"
        }
      ]
    },
    {
      "cell_type": "markdown",
      "metadata": {
        "id": "el9xcFESJ3tq"
      },
      "source": [
        "字串的加法運算"
      ]
    },
    {
      "cell_type": "code",
      "metadata": {
        "id": "9B_CJSNIJ4WS",
        "outputId": "2affd25c-4432-4d79-ba15-c0971fcf97d3",
        "colab": {
          "base_uri": "https://localhost:8080/",
          "height": 34
        }
      },
      "source": [
        "str4=str2+str1\n",
        "print(str4)"
      ],
      "execution_count": null,
      "outputs": [
        {
          "output_type": "stream",
          "text": [
            "這也是字串Hello World!\n"
          ],
          "name": "stdout"
        }
      ]
    },
    {
      "cell_type": "markdown",
      "metadata": {
        "id": "b5rQfTFWK_K1"
      },
      "source": [
        "更多練習"
      ]
    },
    {
      "cell_type": "code",
      "metadata": {
        "id": "O41iBsUILA_c",
        "outputId": "f2dd0f99-d1b4-4de2-cf3b-0b287e694af9",
        "colab": {
          "base_uri": "https://localhost:8080/",
          "height": 35
        }
      },
      "source": [
        "a = ' hello '\n",
        "b = ' python '\n",
        "a+b"
      ],
      "execution_count": null,
      "outputs": [
        {
          "output_type": "execute_result",
          "data": {
            "application/vnd.google.colaboratory.intrinsic+json": {
              "type": "string"
            },
            "text/plain": [
              "' hello  python '"
            ]
          },
          "metadata": {
            "tags": []
          },
          "execution_count": 6
        }
      ]
    },
    {
      "cell_type": "code",
      "metadata": {
        "id": "qlRl_1CTLXAu",
        "outputId": "b507c171-c016-4260-92ef-b731d40bda40",
        "colab": {
          "base_uri": "https://localhost:8080/",
          "height": 35
        }
      },
      "source": [
        "a*2"
      ],
      "execution_count": null,
      "outputs": [
        {
          "output_type": "execute_result",
          "data": {
            "application/vnd.google.colaboratory.intrinsic+json": {
              "type": "string"
            },
            "text/plain": [
              "' hello  hello '"
            ]
          },
          "metadata": {
            "tags": []
          },
          "execution_count": 7
        }
      ]
    },
    {
      "cell_type": "markdown",
      "metadata": {
        "id": "3tPFvXGlMaT5"
      },
      "source": [
        "# 取得字串中的子字串\n",
        "如果你想取出字串的一部份成為子字串，可以利用下述的語法處理：\n",
        "\n",
        "字串[起始值:結束值:間隔值]\n",
        "\n",
        "索引值是由計算是由 0 開始，所以一般起始值要 +1 取值，例如起始值 3 代表要由第 4 個字元開始；結束值要取值時自己不能算，所以在 + 1 之後再 -1。例如結束值 5，就是代表要取到第 6 個值，但第 6 個值不能算，所以取到第 5 個值；間隔值可以不用填，預設值是 1。例如："
      ]
    },
    {
      "cell_type": "code",
      "metadata": {
        "id": "VbEDY9UGLaPL",
        "outputId": "d88f0c4d-6c9d-43a5-9a8b-50d760848589",
        "colab": {
          "base_uri": "https://localhost:8080/",
          "height": 35
        }
      },
      "source": [
        "a[1:4]  #結束值要取值時自己不能算"
      ],
      "execution_count": null,
      "outputs": [
        {
          "output_type": "execute_result",
          "data": {
            "application/vnd.google.colaboratory.intrinsic+json": {
              "type": "string"
            },
            "text/plain": [
              "'hel'"
            ]
          },
          "metadata": {
            "tags": []
          },
          "execution_count": 12
        }
      ]
    },
    {
      "cell_type": "code",
      "metadata": {
        "id": "X0mqcOSSMoJe",
        "outputId": "90abbf2d-db8b-455d-85d1-5d23e59b7e1b",
        "colab": {
          "base_uri": "https://localhost:8080/",
          "height": 34
        }
      },
      "source": [
        "\"H\" in a"
      ],
      "execution_count": null,
      "outputs": [
        {
          "output_type": "execute_result",
          "data": {
            "text/plain": [
              "False"
            ]
          },
          "metadata": {
            "tags": []
          },
          "execution_count": 13
        }
      ]
    },
    {
      "cell_type": "code",
      "metadata": {
        "id": "G2mcqocVMpnE",
        "outputId": "c6518080-acef-4f88-8847-a73d0285d699",
        "colab": {
          "base_uri": "https://localhost:8080/",
          "height": 34
        }
      },
      "source": [
        "\"H\" not in a"
      ],
      "execution_count": null,
      "outputs": [
        {
          "output_type": "execute_result",
          "data": {
            "text/plain": [
              "True"
            ]
          },
          "metadata": {
            "tags": []
          },
          "execution_count": 15
        }
      ]
    },
    {
      "cell_type": "code",
      "metadata": {
        "id": "CZYpRnUUMuv0",
        "outputId": "66147d1c-d56e-46b8-fc19-1fb7100d538b",
        "colab": {
          "base_uri": "https://localhost:8080/",
          "height": 34
        }
      },
      "source": [
        "\"h\" in a"
      ],
      "execution_count": null,
      "outputs": [
        {
          "output_type": "execute_result",
          "data": {
            "text/plain": [
              "True"
            ]
          },
          "metadata": {
            "tags": []
          },
          "execution_count": 16
        }
      ]
    },
    {
      "cell_type": "markdown",
      "metadata": {
        "id": "jD2OS55cbTZQ"
      },
      "source": [
        "# 字串反轉\n",
        "\n",
        "\n",
        "```\n",
        "Reverse string in Python (5 different ways)\n",
        "\n",
        "https://www.geeksforgeeks.org/reverse-string-python-5-different-ways/\n",
        "```\n",
        "\n"
      ]
    },
    {
      "cell_type": "code",
      "metadata": {
        "id": "5lOpiZpHbbqR",
        "outputId": "06c9c775-c3da-464d-f077-7fd32c074cff",
        "colab": {
          "base_uri": "https://localhost:8080/",
          "height": 51
        }
      },
      "source": [
        "def reverse(s): \n",
        "    if len(s) == 0: \n",
        "        return s \n",
        "    else: \n",
        "        return reverse(s[1:]) + s[0] \n",
        "  \n",
        "#----------------------------------------\n",
        "s = \"BreakAllCTF{HappyHackingDay}\"\n",
        "\n",
        "print (\"The original string  is : \",end=\"\") \n",
        "print (s) \n",
        "  \n",
        "print (\"The reversed string(using recursion) is : \",end=\"\") \n",
        "print (reverse(s))"
      ],
      "execution_count": 17,
      "outputs": [
        {
          "output_type": "stream",
          "text": [
            "The original string  is : BreakAllCTF{HappyHackingDay}\n",
            "The reversed string(using recursion) is : }yaDgnikcaHyppaH{FTCllAkaerB\n"
          ],
          "name": "stdout"
        }
      ]
    },
    {
      "cell_type": "markdown",
      "metadata": {
        "id": "gLmzGJIvbg7-"
      },
      "source": [
        "# [3]Python内建的字串函数(Built-in String Methods)\n",
        "\n",
        "\n",
        "```\n",
        "底下以幾個常見的示範\n",
        "\n",
        "更多的練習請參考底下\n",
        "\n",
        "https://www.tutorialspoint.com/python/python_strings.htm\n",
        "```\n",
        "\n"
      ]
    },
    {
      "cell_type": "markdown",
      "metadata": {
        "id": "hu6h6zfTb2Rs"
      },
      "source": [
        "# str.capitalize() 将字符串的第一个字母变成大写,其他字母变小写。\n",
        "\n",
        "---\n",
        "\n"
      ]
    },
    {
      "cell_type": "code",
      "metadata": {
        "id": "8WcKurA-bo6L",
        "outputId": "a1ae30e0-c4e1-4fa3-9fac-44f0f01d8b43",
        "colab": {
          "base_uri": "https://localhost:8080/",
          "height": 34
        }
      },
      "source": [
        "str1='happy python day'\n",
        "str2='    Oh!   '\n",
        "str4=str1 + str2\n",
        "print(str4.capitalize())"
      ],
      "execution_count": 21,
      "outputs": [
        {
          "output_type": "stream",
          "text": [
            "Happy python day    oh!   \n"
          ],
          "name": "stdout"
        }
      ]
    },
    {
      "cell_type": "code",
      "metadata": {
        "id": "COq_D2UmeJ3n",
        "outputId": "65bdd98a-b367-4587-a994-df7afcb8e1d9",
        "colab": {
          "base_uri": "https://localhost:8080/",
          "height": 34
        }
      },
      "source": [
        "import base64\n",
        "s = \"Hello World!\"\n",
        "b = s.encode(\"UTF-8\")\n",
        "e = base64.b64encode(b)\n",
        "print(e)"
      ],
      "execution_count": 36,
      "outputs": [
        {
          "output_type": "stream",
          "text": [
            "b'SGVsbG8gV29ybGQh'\n"
          ],
          "name": "stdout"
        }
      ]
    },
    {
      "cell_type": "markdown",
      "metadata": {
        "id": "gKgO3zj7e1wP"
      },
      "source": [
        "# isalpha() :檢測字串是否只由字母組成\n"
      ]
    },
    {
      "cell_type": "code",
      "metadata": {
        "id": "9huKqttme4tw",
        "outputId": "e9c9ebab-2fa7-463f-d796-155b380d7287",
        "colab": {
          "base_uri": "https://localhost:8080/",
          "height": 51
        }
      },
      "source": [
        "str = \"Python2019\"\n",
        "print(str.isalpha())\n",
        "\n",
        "str = \"Python\"\n",
        "print(str.isalpha())"
      ],
      "execution_count": 39,
      "outputs": [
        {
          "output_type": "stream",
          "text": [
            "False\n",
            "True\n"
          ],
          "name": "stdout"
        }
      ]
    },
    {
      "cell_type": "markdown",
      "metadata": {
        "id": "mfpkNQv-fYGe"
      },
      "source": [
        "# isalnum():檢測字串是否由字母和數位組成\n",
        "\n",
        "```\n",
        "如果 string 至少有一個字元並且所有字元都是字母或數字則返回 True,\n",
        "否則返回 False\n",
        "```\n",
        "\n"
      ]
    },
    {
      "cell_type": "code",
      "metadata": {
        "id": "u-YVb6igfnSn",
        "outputId": "786f8718-9966-4829-c1fe-6a592bc56341",
        "colab": {
          "base_uri": "https://localhost:8080/",
          "height": 85
        }
      },
      "source": [
        "str = \"Python2019\"\n",
        "print(str.isalnum())\n",
        "\n",
        "str = \"Python\"\n",
        "print(str.isalnum())\n",
        "\n",
        "str = \"2019\"\n",
        "print(str.isalnum())\n",
        "\n",
        "str = \"Python 2019\"\n",
        "print(str.isalnum())"
      ],
      "execution_count": 40,
      "outputs": [
        {
          "output_type": "stream",
          "text": [
            "True\n",
            "True\n",
            "True\n",
            "False\n"
          ],
          "name": "stdout"
        }
      ]
    }
  ]
}