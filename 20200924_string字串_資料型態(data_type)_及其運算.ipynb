{
  "nbformat": 4,
  "nbformat_minor": 0,
  "metadata": {
    "colab": {
      "name": "20200924 string字串 資料型態(data type) 及其運算.ipynb",
      "provenance": [],
      "authorship_tag": "ABX9TyMBWgDXCNwxvmHXMXFG3++F",
      "include_colab_link": true
    },
    "kernelspec": {
      "name": "python3",
      "display_name": "Python 3"
    }
  },
  "cells": [
    {
      "cell_type": "markdown",
      "metadata": {
        "id": "view-in-github",
        "colab_type": "text"
      },
      "source": [
        "<a href=\"https://colab.research.google.com/github/Ruby-Dog/CS2020/blob/master/20200924_string%E5%AD%97%E4%B8%B2_%E8%B3%87%E6%96%99%E5%9E%8B%E6%85%8B(data_type)_%E5%8F%8A%E5%85%B6%E9%81%8B%E7%AE%97.ipynb\" target=\"_parent\"><img src=\"https://colab.research.google.com/assets/colab-badge.svg\" alt=\"Open In Colab\"/></a>"
      ]
    },
    {
      "cell_type": "markdown",
      "metadata": {
        "id": "coSVdut376x9",
        "colab_type": "text"
      },
      "source": [
        "# [1]string字串 資料型態(data type)\n",
        "\n",
        "```\n",
        "Python 字串資料型態 (str) \n",
        "\n",
        "變數值以一對雙引號 (「\"」)或單引號 (「'」)\n",
        "```"
      ]
    },
    {
      "cell_type": "code",
      "metadata": {
        "id": "b6x8av_J8G4U",
        "colab_type": "code",
        "colab": {
          "base_uri": "https://localhost:8080/",
          "height": 68
        },
        "outputId": "b7989078-1b66-4435-eb29-96c4c71c50c5"
      },
      "source": [
        "str1 = '這是字串'\n",
        "print(str1)\n",
        "\n",
        "str2 = \"這也是字串\"\n",
        "print(str2)\n",
        "\n",
        "str3 = 'allows embedded \"double\" quotes'\n",
        "print(str3)"
      ],
      "execution_count": 1,
      "outputs": [
        {
          "output_type": "stream",
          "text": [
            "這是字串\n",
            "這也是字串\n",
            "allows embedded \"double\" quotes\n"
          ],
          "name": "stdout"
        }
      ]
    },
    {
      "cell_type": "markdown",
      "metadata": {
        "id": "B3yi9DT_8eVA",
        "colab_type": "text"
      },
      "source": [
        "# [2]string字串的運算\n"
      ]
    },
    {
      "cell_type": "markdown",
      "metadata": {
        "id": "CjnOjflI8tR0",
        "colab_type": "text"
      },
      "source": [
        "存取字串中的值: 使用方括號"
      ]
    },
    {
      "cell_type": "code",
      "metadata": {
        "id": "bF6Dw8Y-8q8M",
        "colab_type": "code",
        "colab": {
          "base_uri": "https://localhost:8080/",
          "height": 68
        },
        "outputId": "eaf924f0-18cc-4fb8-d967-365565eac29a"
      },
      "source": [
        "var = 'hello!dog!'\n",
        "print('var[0]:',var[0])\n",
        "print('var[5]:',var[5])\n",
        "print('var[1:8]:',var[1:8])  #印出第1到第八個字元"
      ],
      "execution_count": 5,
      "outputs": [
        {
          "output_type": "stream",
          "text": [
            "var[0]: h\n",
            "var[5]: !\n",
            "var[1:8]: ello!do\n"
          ],
          "name": "stdout"
        }
      ]
    },
    {
      "cell_type": "markdown",
      "metadata": {
        "id": "bz_zuZy_96gK",
        "colab_type": "text"
      },
      "source": [
        "字串的更新"
      ]
    },
    {
      "cell_type": "code",
      "metadata": {
        "id": "gSo2PIoy97LP",
        "colab_type": "code",
        "colab": {
          "base_uri": "https://localhost:8080/",
          "height": 68
        },
        "outputId": "17fe1610-0657-4459-d16c-edeb73a75987"
      },
      "source": [
        "str1 = 'Hello World!'\n",
        "print(\"更新前的字串-> \", str1[:]) \n",
        "print(\"更新前的字串(也可以這樣寫)-> \", str1) \n",
        "print(\"更新後的字串-> \", str1[6]+'python')  \n"
      ],
      "execution_count": 19,
      "outputs": [
        {
          "output_type": "stream",
          "text": [
            "更新前的字串->  Hello World!\n",
            "更新前的字串(也可以這樣寫)->  Hello World!\n",
            "更新後的字串->  Wpython\n"
          ],
          "name": "stdout"
        }
      ]
    },
    {
      "cell_type": "markdown",
      "metadata": {
        "id": "el9xcFESJ3tq",
        "colab_type": "text"
      },
      "source": [
        "字串的加法運算"
      ]
    },
    {
      "cell_type": "code",
      "metadata": {
        "id": "9B_CJSNIJ4WS",
        "colab_type": "code",
        "colab": {
          "base_uri": "https://localhost:8080/",
          "height": 34
        },
        "outputId": "2affd25c-4432-4d79-ba15-c0971fcf97d3"
      },
      "source": [
        "str4=str2+str1\n",
        "print(str4)"
      ],
      "execution_count": 22,
      "outputs": [
        {
          "output_type": "stream",
          "text": [
            "這也是字串Hello World!\n"
          ],
          "name": "stdout"
        }
      ]
    }
  ]
}