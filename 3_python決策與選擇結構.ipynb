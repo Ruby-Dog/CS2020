{
  "nbformat": 4,
  "nbformat_minor": 0,
  "metadata": {
    "colab": {
      "name": "3.python決策與選擇結構.ipynb",
      "provenance": [],
      "authorship_tag": "ABX9TyNmxDYSj179G16MV+tODmoW",
      "include_colab_link": true
    },
    "kernelspec": {
      "name": "python3",
      "display_name": "Python 3"
    }
  },
  "cells": [
    {
      "cell_type": "markdown",
      "metadata": {
        "id": "view-in-github",
        "colab_type": "text"
      },
      "source": [
        "<a href=\"https://colab.research.google.com/github/Ruby-Dog/CS2020/blob/master/3_python%E6%B1%BA%E7%AD%96%E8%88%87%E9%81%B8%E6%93%87%E7%B5%90%E6%A7%8B.ipynb\" target=\"_parent\"><img src=\"https://colab.research.google.com/assets/colab-badge.svg\" alt=\"Open In Colab\"/></a>"
      ]
    },
    {
      "cell_type": "markdown",
      "metadata": {
        "id": "n9-YUFSVgl5p"
      },
      "source": [
        "20200928"
      ]
    },
    {
      "cell_type": "markdown",
      "metadata": {
        "id": "7sj9RqragwJT"
      },
      "source": [
        "# python決策與選擇結構\n",
        "\n",
        "```\n",
        "[1]if\n",
        "[2]if ...elsif\n",
        "[3]if ...else\n",
        "[4]if ...elsif ...else\n",
        "[5]各種判斷條件\n",
        "   AND\n",
        "   OR\n",
        "```\n",
        "\n",
        "\n",
        "```\n",
        "單向判斷式（if⋯）: 是非題｜對的才要做\n",
        "雙向判斷式（if⋯else）: 二選一｜一定要選的\n",
        "多向判斷式（if⋯elif⋯else）: 多選一｜一定要選的\n",
        "```\n",
        "\n",
        "```\n",
        "程式流程控制　之 選擇(判斷) SELECTION /DECISION\n",
        "Python 程式碼縮排\n",
        "Python 語言以冒號「:」及縮排來表示程式區塊\n",
        "縮排為 1 個 Tab 鍵或 4 個空白鍵\n",
        "PS: Python沒有switch\n",
        "\n",
        "https://www.w3schools.com/python/python_conditions.asp\n",
        "```\n",
        "\n",
        "\n",
        "\n"
      ]
    },
    {
      "cell_type": "markdown",
      "metadata": {
        "id": "oUpOWq5MhLhb"
      },
      "source": [
        "# [1]if"
      ]
    },
    {
      "cell_type": "code",
      "metadata": {
        "id": "C_I3c6Jkgj6k",
        "outputId": "d862652c-7090-4c3c-c260-81a83af7cabc",
        "colab": {
          "base_uri": "https://localhost:8080/",
          "height": 34
        }
      },
      "source": [
        "a = 38\n",
        "b = 999\n",
        "if a < b:\n",
        "  print('b is greater than a')"
      ],
      "execution_count": 6,
      "outputs": [
        {
          "output_type": "stream",
          "text": [
            "b is greater than a\n"
          ],
          "name": "stdout"
        }
      ]
    },
    {
      "cell_type": "code",
      "metadata": {
        "id": "nzz2Ge00hz03",
        "outputId": "e98a7d05-8e66-4428-e658-a4b0671f3ff8",
        "colab": {
          "base_uri": "https://localhost:8080/",
          "height": 34
        }
      },
      "source": [
        "a = 10007\n",
        "b = 83\n",
        "if a > b:\n",
        "  print('a is greater than b')"
      ],
      "execution_count": 7,
      "outputs": [
        {
          "output_type": "stream",
          "text": [
            "a is greater than b\n"
          ],
          "name": "stdout"
        }
      ]
    },
    {
      "cell_type": "markdown",
      "metadata": {
        "id": "-ae7duZAh8ZZ"
      },
      "source": [
        "# [2]if ...elsif"
      ]
    },
    {
      "cell_type": "code",
      "metadata": {
        "id": "IFCfZlGBjiV4",
        "outputId": "7a95f341-f690-4514-87a0-4f474c50e128",
        "colab": {
          "base_uri": "https://localhost:8080/",
          "height": 34
        }
      },
      "source": [
        "a = 333\n",
        "b = 22\n",
        "if a < b:\n",
        "  print('a < b')\n",
        "elif a > b:\n",
        "  print('a > b')"
      ],
      "execution_count": 8,
      "outputs": [
        {
          "output_type": "stream",
          "text": [
            "a > b\n"
          ],
          "name": "stdout"
        }
      ]
    },
    {
      "cell_type": "code",
      "metadata": {
        "id": "dqmiLK-2j3X3",
        "outputId": "447d1a0b-bce6-4222-a22e-5065a52fb524",
        "colab": {
          "base_uri": "https://localhost:8080/",
          "height": 34
        }
      },
      "source": [
        "a = 33\n",
        "b = 33\n",
        "if b > a:\n",
        "  print(\"b is greater than a\")\n",
        "elif a == b:\n",
        "  print(\"a and b are equal\")"
      ],
      "execution_count": 9,
      "outputs": [
        {
          "output_type": "stream",
          "text": [
            "a and b are equal\n"
          ],
          "name": "stdout"
        }
      ]
    },
    {
      "cell_type": "code",
      "metadata": {
        "id": "WElbpWQoj5rM"
      },
      "source": [
        "a = 35\n",
        "b = 33\n",
        "\n",
        "if b > a:\n",
        "  print(\"b is greater than a\")\n",
        "elif a == b:\n",
        "  print(\"a and b are equal\")"
      ],
      "execution_count": 10,
      "outputs": []
    },
    {
      "cell_type": "markdown",
      "metadata": {
        "id": "fdYPkCkHj9Bt"
      },
      "source": [
        "# [3]雙向判斷式（if⋯else）: 二選一｜一定要選的"
      ]
    },
    {
      "cell_type": "code",
      "metadata": {
        "id": "NRhz9JAGkHo8",
        "outputId": "b84b6a58-8440-49d4-d87f-0a70b24032d5",
        "colab": {
          "base_uri": "https://localhost:8080/",
          "height": 34
        }
      },
      "source": [
        "a = 324394\n",
        "b = 4234\n",
        "if a < b :\n",
        "  print('a < b')\n",
        "else:\n",
        "  print('a > b')  "
      ],
      "execution_count": 11,
      "outputs": [
        {
          "output_type": "stream",
          "text": [
            "a > b\n"
          ],
          "name": "stdout"
        }
      ]
    },
    {
      "cell_type": "markdown",
      "metadata": {
        "id": "VHttqiDIkYus"
      },
      "source": [
        "# [4]if ...elsif ...else 多選一｜一定要選的"
      ]
    },
    {
      "cell_type": "code",
      "metadata": {
        "id": "CJhpXraSkh7h",
        "outputId": "eee8bc56-2898-430a-a486-254b61df2e21",
        "colab": {
          "base_uri": "https://localhost:8080/",
          "height": 34
        }
      },
      "source": [
        "a = 8843\n",
        "b = 8843 \n",
        "if a > b :\n",
        "  print('a > b')\n",
        "elif a < b :\n",
        "  print('a < b')\n",
        "else :\n",
        "  print('a == b')"
      ],
      "execution_count": 12,
      "outputs": [
        {
          "output_type": "stream",
          "text": [
            "a == b\n"
          ],
          "name": "stdout"
        }
      ]
    },
    {
      "cell_type": "markdown",
      "metadata": {
        "id": "rrhLVjLBk2nb"
      },
      "source": [
        "# [5]各種判斷條件 AND OR\n",
        "\n",
        "\n",
        "```\n",
        "#判斷是否為閏年\n",
        "```\n",
        "\n"
      ]
    },
    {
      "cell_type": "code",
      "metadata": {
        "id": "ChKO0pRqk6vW",
        "outputId": "74f9be59-6538-4318-f33f-8806921be268",
        "colab": {
          "base_uri": "https://localhost:8080/",
          "height": 51
        }
      },
      "source": [
        "year= eval(input(\"請輸入年\"))\n",
        "\n",
        "if ((year%400==0) or (year%4==0 and year%100!=0)):\n",
        "  print(\"{0} 是閏年\".format(year))\n",
        "else:\n",
        "  print(\"{0} 不是閏年\".format(year))"
      ],
      "execution_count": 13,
      "outputs": [
        {
          "output_type": "stream",
          "text": [
            "請輸入年1999\n",
            "1999 不是閏年\n"
          ],
          "name": "stdout"
        }
      ]
    },
    {
      "cell_type": "markdown",
      "metadata": {
        "id": "9Ozm6rTzlAdD"
      },
      "source": [
        "# 歲月匆匆程式開發\n",
        "\n",
        "```\n",
        "輸入:年月日\n",
        "輸出:已經過了多少日\n",
        "```\n",
        "\n"
      ]
    },
    {
      "cell_type": "code",
      "metadata": {
        "id": "_TDC4Fk5lBdT",
        "outputId": "f1a2c7a9-157d-4ef2-9d0b-7ede0e532269",
        "colab": {
          "base_uri": "https://localhost:8080/",
          "height": 34
        }
      },
      "source": [
        "import time\n",
        "date = time.localtime()\n",
        "print(date)"
      ],
      "execution_count": 14,
      "outputs": [
        {
          "output_type": "stream",
          "text": [
            "time.struct_time(tm_year=2020, tm_mon=9, tm_mday=28, tm_hour=11, tm_min=59, tm_sec=21, tm_wday=0, tm_yday=272, tm_isdst=0)\n"
          ],
          "name": "stdout"
        }
      ]
    },
    {
      "cell_type": "code",
      "metadata": {
        "id": "ei6AraqllO5t",
        "outputId": "73658c5f-7bea-4944-d1d1-47e59a4997d0",
        "colab": {
          "base_uri": "https://localhost:8080/",
          "height": 34
        }
      },
      "source": [
        "# year ,month ,day = eval(input('請輸入年月日'))\n",
        "# year ,month ,day\n",
        "import time\n",
        "date = time.localtime()\t\t#取得目前的日期時間\n",
        "year = date[0]\n",
        "month = date[1]\n",
        "day = date[2]\n",
        "\n",
        "print(year)"
      ],
      "execution_count": 30,
      "outputs": [
        {
          "output_type": "stream",
          "text": [
            "2020\n"
          ],
          "name": "stdout"
        }
      ]
    }
  ]
}